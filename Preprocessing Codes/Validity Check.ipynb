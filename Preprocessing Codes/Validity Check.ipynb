{
 "cells": [
  {
   "cell_type": "code",
   "execution_count": 3,
   "metadata": {},
   "outputs": [],
   "source": [
    "import pandas as pd\n",
    "import os"
   ]
  },
  {
   "cell_type": "code",
   "execution_count": 1,
   "metadata": {},
   "outputs": [],
   "source": [
    "def check_validity(input_dir, output_dir):\n",
    "    for file in os.listdir(input_dir):\n",
    "        df = pd.read_csv(input_dir + '\\\\' + file)\n",
    "        if len(df.columns) <= 31:\n",
    "            df.to_csv(output_dir + '\\\\' + file, index=False)"
   ]
  },
  {
   "cell_type": "code",
   "execution_count": 5,
   "metadata": {},
   "outputs": [],
   "source": [
    "check_validity(r'D:\\MATTHEW\\UROPS\\Datasets\\All Datasets\\Multiclass Datasets', r'D:\\MATTHEW\\UROPS\\Datasets\\All Datasets\\Valid Multiclass Datasets')"
   ]
  }
 ],
 "metadata": {
  "kernelspec": {
   "display_name": "Python 3",
   "language": "python",
   "name": "python3"
  },
  "language_info": {
   "codemirror_mode": {
    "name": "ipython",
    "version": 3
   },
   "file_extension": ".py",
   "mimetype": "text/x-python",
   "name": "python",
   "nbconvert_exporter": "python",
   "pygments_lexer": "ipython3",
   "version": "3.11.9"
  }
 },
 "nbformat": 4,
 "nbformat_minor": 2
}
